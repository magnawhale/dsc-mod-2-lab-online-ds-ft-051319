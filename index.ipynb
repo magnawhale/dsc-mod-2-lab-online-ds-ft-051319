{
 "cells": [
  {
   "cell_type": "markdown",
   "metadata": {},
   "source": [
    "# Module 2 Summative Lab\n",
    "\n",
    "## Introduction\n",
    "\n",
    "For today's section, we're going to work on a single big lab to apply everything we've learned in Module 2!\n",
    "\n",
    "## About This Lab\n",
    "\n",
    "A quick note before getting started--this lab isn't like other labs you seen so far. This lab is meant to take ~8 hours to complete, so it's much longer and more challenging that the average labs you've seen so far. If you feel like this lab is challenging or that you might be struggling a bit, don't fret--that's by design! With everything we've learned about Web Scraping, APIs, and Databases, the best way to test our knowledge of it is to build something substantial! \n",
    "\n",
    "## The Project\n",
    "\n",
    "In this lab, we're going to make use of everything we've learned about APIs, databases, and Object-Oriented Programming to **_Extract, Transform, and Load_** (or **_ETL_**, for short) some data from a SQL database into a MongoDB Database. \n",
    "\n",
    "You'll find a database containing information about soccer teams and the matches they've played in the file `database.sqlite`. For this project, our goal is to get the data we think is important from this SQL database, do some calculations and data transformation, and then store everything in a MongoDB database. \n",
    "\n",
    "Let's get into the specifics of this project.\n",
    "\n",
    "### The Goal\n",
    "\n",
    "Start by examining the data dictionary for the SQL database we'll be working with, which comes from this [kaggle page](https://www.kaggle.com/laudanum/footballdelphi).  Familiarize yourself with the tables it contains, and what each column means. We'll be using this database to get data on each soccer team, calculate some summary statistics, and then store each in a MongoDB database. \n",
    "\n",
    "Upon completion of this lab, each unique team in this dataset should have a record in the MongoDB instance containing the following information:\n",
    "\n",
    "* The name of the team\n",
    "* The total number of goals scored by the team during the 2011 season\n",
    "* The total number of wins the team earned during the 2011 season\n",
    "* A histogram visualization of the team's wins and losses for the 2011 season (store the visualization directly)\n",
    "* The team's win percentage on days where it was raining during games in the 2011 season. \n",
    "\n",
    "#### Getting the Weather Data\n",
    "\n",
    "Note that for this last calculation, you'll need to figure out if it was raining or not during the game. The database itself does not contain this information, but it does contain the date on which the game was played. For this, you'll need to use the [DarkSky API](https://darksky.net/dev) to get the historical weather data for that day. Note that each game is played in a different location, and this information is not contained in our SQL database. However, the teams in this database are largely german, so go ahead and just use the weather in Berlin, Germany as a proxy for this information. If it was raining in Berlin on the day the game was played, count that as rain game--**_you do not need to try and figure out the actual weather at each game's location, because we don't have that information!_**\n",
    "\n",
    "#### NOTE: The DarkSky API is limited to 1000 free API calls a day, so be sure to test your model on very small samples. Otherwise, you'll hit the rate limit!\n",
    "\n",
    "## Project Architecture\n",
    "\n",
    "Unlike previous labs, this lab is more open-ended, and will require you to make design decisions and plan out your strategy for building a system with this many working parts. However, **_using Object-Oriented Programming is a requirement for this project--you must create at least 2 separate, well structured classes in your solution!_** Although it may seem easier to \"just start coding\", this is a classic beginner's mistake. Instead, think about separating out the different functionalities you'll need to reach your goal, and then build classes to handle each. For instance, at minimum, you'll need to:\n",
    "\n",
    "* Query the SQL database\n",
    "* Calculate summary statistics\n",
    "* Get the weather data from the DarkSky API\n",
    "* Load the data into MongoDB\n",
    "\n",
    "We **_strongly recommend_** you consider creating separate classes for handling at least some of these of these tasks.  Be sure to plan the inputs, outputs, and methods for each class before you begin coding! \n",
    "\n",
    "**_NOTE:_** We have provided some empty classes below. You are welcome to delete them and use a different architecture for this project if you so choose.  You do not have to use each of them, they are just there to give you an idea of what you could sorts of classes you may want to consider using.\n",
    "\n",
    "### Rapid Prototyping and Refactoring\n",
    "\n",
    "It's totally okay to try to get a task working without using OOP. For instance, when experimenting with the DarkSky API for getting historical weather data, it makes sense to just write the code in the cells and rapidly iterate until you get it all working. However, once you get it working, you're not done--you should then **_Refactor_** your code into functions or classes to make your code more modular, reusable, understandable, and maintainable! \n",
    "\n",
    "In short--do what you need to do to get each separate piece of functionality working, and then refactor it into a class after you've figured it out!\n",
    "\n",
    "### Some Final Advice\n",
    "\n",
    "You haven't built anything this big or complex thus far, so you may not yet fully realize how much trial and error goes into it. If your code keeps breaking, resist the urge to get frustrated, and just keep working. Software development is an iterative process!  No one writes perfect code that works the first time for something this involved. You're going to run into _a lot_ of small errors in this project, right up until the point where it just works, and then you're done! However, you can reduce these errors by planning out your code, and thinking about how all of the pieces fit together before you begin coding. Once you have some basic understanding of how it all will work, then you'll know what you need to build, and then all that is left is to build it!\n",
    "\n",
    "In short:\n",
    "\n",
    "* Plan ahead--you'll thank yourself later!\n",
    "* Errors and broken code aren't bad, they're normal. \n",
    "* Keep working, and stay confident--you can do this!\n",
    "\n",
    "Good luck--we look forward to seeing your completed project!"
   ]
  },
  {
   "cell_type": "markdown",
   "metadata": {},
   "source": [
    "## Project Workflow\n",
    "\n",
    "\t1. load soccer data into Python\n",
    "\t\ta. explore the data\n",
    "\t\tb. import to Pandas as different DataFrames?\n",
    "\t\tc. transform data as necessary to make it more directly useable (probably also drop a lot of columns\n",
    "\t2. Build a class for team info\n",
    "\t\ta. write functions that will aggregate wins, losses, goals per game (and thus goals per season)\n",
    "\t\tb. write a function that will produce a win-loss histogram (and store the visualization directly!)\n",
    "\t3. Build a class for gathering weather data\n",
    "\t\ta. functions to automate pulling weather data for every game day\n",
    "\t4. Build a class or function that will calculate win percentage for rainy days\n",
    "\t\ta. needs each team to access weather data for each game day and then calculate win percentage of rainy days\n",
    "\t5. Build a class for pushing all of this stuff to MongoDB\n",
    "\t\ta. ______"
   ]
  },
  {
   "cell_type": "markdown",
   "metadata": {},
   "source": [
    "## Loading Soccer Data\n"
   ]
  },
  {
   "cell_type": "code",
   "execution_count": 54,
   "metadata": {},
   "outputs": [],
   "source": [
    "# for viewing/visualizing data\n",
    "import pandas as pd\n",
    "import matplotlib.pyplot as plt\n",
    "%matplotlib inline\n",
    "\n",
    "#for web scraping\n",
    "from bs4 import BeautifulSoup\n",
    "import requests\n",
    "import re\n",
    "\n",
    "#for interacting with MongoDB\n",
    "import pymongo\n",
    "\n",
    "#image handling libraries\n",
    "from io import StringIO, BytesIO\n",
    "from PIL import Image\n",
    "\n",
    "#for handling SQL database & loading our soccer database\n",
    "import sqlite3\n",
    "conn = sqlite3.connect('database.sqlite')\n",
    "c = conn.cursor()"
   ]
  },
  {
   "cell_type": "code",
   "execution_count": 55,
   "metadata": {
    "scrolled": false
   },
   "outputs": [
    {
     "data": {
      "text/html": [
       "<div>\n",
       "<style scoped>\n",
       "    .dataframe tbody tr th:only-of-type {\n",
       "        vertical-align: middle;\n",
       "    }\n",
       "\n",
       "    .dataframe tbody tr th {\n",
       "        vertical-align: top;\n",
       "    }\n",
       "\n",
       "    .dataframe thead th {\n",
       "        text-align: right;\n",
       "    }\n",
       "</style>\n",
       "<table border=\"1\" class=\"dataframe\">\n",
       "  <thead>\n",
       "    <tr style=\"text-align: right;\">\n",
       "      <th></th>\n",
       "      <th>Match_ID</th>\n",
       "      <th>Div</th>\n",
       "      <th>Season</th>\n",
       "      <th>Date</th>\n",
       "      <th>HomeTeam</th>\n",
       "      <th>AwayTeam</th>\n",
       "      <th>FTHG</th>\n",
       "      <th>FTAG</th>\n",
       "      <th>FTR</th>\n",
       "    </tr>\n",
       "  </thead>\n",
       "  <tbody>\n",
       "    <tr>\n",
       "      <th>0</th>\n",
       "      <td>1092</td>\n",
       "      <td>D1</td>\n",
       "      <td>2011</td>\n",
       "      <td>2012-03-31</td>\n",
       "      <td>Nurnberg</td>\n",
       "      <td>Bayern Munich</td>\n",
       "      <td>0</td>\n",
       "      <td>1</td>\n",
       "      <td>A</td>\n",
       "    </tr>\n",
       "    <tr>\n",
       "      <th>1</th>\n",
       "      <td>1093</td>\n",
       "      <td>D1</td>\n",
       "      <td>2011</td>\n",
       "      <td>2011-12-11</td>\n",
       "      <td>Stuttgart</td>\n",
       "      <td>Bayern Munich</td>\n",
       "      <td>1</td>\n",
       "      <td>2</td>\n",
       "      <td>A</td>\n",
       "    </tr>\n",
       "    <tr>\n",
       "      <th>2</th>\n",
       "      <td>1094</td>\n",
       "      <td>D1</td>\n",
       "      <td>2011</td>\n",
       "      <td>2011-08-13</td>\n",
       "      <td>Wolfsburg</td>\n",
       "      <td>Bayern Munich</td>\n",
       "      <td>0</td>\n",
       "      <td>1</td>\n",
       "      <td>A</td>\n",
       "    </tr>\n",
       "    <tr>\n",
       "      <th>3</th>\n",
       "      <td>1095</td>\n",
       "      <td>D1</td>\n",
       "      <td>2011</td>\n",
       "      <td>2011-11-27</td>\n",
       "      <td>Mainz</td>\n",
       "      <td>Bayern Munich</td>\n",
       "      <td>3</td>\n",
       "      <td>2</td>\n",
       "      <td>H</td>\n",
       "    </tr>\n",
       "    <tr>\n",
       "      <th>4</th>\n",
       "      <td>1096</td>\n",
       "      <td>D1</td>\n",
       "      <td>2011</td>\n",
       "      <td>2012-02-18</td>\n",
       "      <td>Freiburg</td>\n",
       "      <td>Bayern Munich</td>\n",
       "      <td>0</td>\n",
       "      <td>0</td>\n",
       "      <td>D</td>\n",
       "    </tr>\n",
       "  </tbody>\n",
       "</table>\n",
       "</div>"
      ],
      "text/plain": [
       "   Match_ID Div  Season        Date   HomeTeam       AwayTeam  FTHG  FTAG FTR\n",
       "0      1092  D1    2011  2012-03-31   Nurnberg  Bayern Munich     0     1   A\n",
       "1      1093  D1    2011  2011-12-11  Stuttgart  Bayern Munich     1     2   A\n",
       "2      1094  D1    2011  2011-08-13  Wolfsburg  Bayern Munich     0     1   A\n",
       "3      1095  D1    2011  2011-11-27      Mainz  Bayern Munich     3     2   H\n",
       "4      1096  D1    2011  2012-02-18   Freiburg  Bayern Munich     0     0   D"
      ]
     },
     "metadata": {},
     "output_type": "display_data"
    },
    {
     "name": "stdout",
     "output_type": "stream",
     "text": [
      "<class 'pandas.core.frame.DataFrame'>\n",
      "RangeIndex: 992 entries, 0 to 991\n",
      "Data columns (total 9 columns):\n",
      "Match_ID    992 non-null int64\n",
      "Div         992 non-null object\n",
      "Season      992 non-null int64\n",
      "Date        992 non-null object\n",
      "HomeTeam    992 non-null object\n",
      "AwayTeam    992 non-null object\n",
      "FTHG        992 non-null int64\n",
      "FTAG        992 non-null int64\n",
      "FTR         992 non-null object\n",
      "dtypes: int64(4), object(5)\n",
      "memory usage: 69.8+ KB\n"
     ]
    }
   ],
   "source": [
    "#exploring structure of our data\n",
    "c.execute(\"\"\"SELECT * FROM Matches\n",
    "          WHERE Season = 2011\n",
    "          ;\"\"\"\n",
    "         )\n",
    "matches_df = pd.DataFrame(c.fetchall())\n",
    "matches_df.columns = [i[0] for i in c.description]\n",
    "display(matches_df.head(5))\n",
    "matches_df.info()"
   ]
  },
  {
   "cell_type": "markdown",
   "metadata": {},
   "source": [
    "# Building classes for Teams"
   ]
  },
  {
   "cell_type": "code",
   "execution_count": 56,
   "metadata": {},
   "outputs": [],
   "source": [
    "#The name of the team\n",
    "#The total number of goals scored by the team during the 2011 season\n",
    "#The total number of wins the team earned during the 2011 season\n",
    "#A histogram visualization of the team's wins and losses for the 2011 season (store the visualization directly)\n",
    "#The team's win percentage on days where it was raining during games in the 2011 season.\n",
    "\n",
    "class Team:\n",
    "    \n",
    "    def __init__(self, name=None):\n",
    "        self.name = name\n",
    "        self.total_goals()\n",
    "        self.date_outcomes()\n",
    "        \n",
    "        \n",
    "    def total_goals(self):\n",
    "        home_goals = c.execute(\"SELECT Sum(FTHG) FROM Matches WHERE Season = 2011 AND HomeTeam=:name\", {\"name\": self.name}).fetchall()[0][0]\n",
    "        away_goals = c.execute(\"SELECT Sum(FTAG) FROM Matches WHERE Season = 2011 AND AwayTeam=:name\", {\"name\": self.name}).fetchall()[0][0]\n",
    "        self.tot_goals = home_goals + away_goals\n",
    "        return self.tot_goals\n",
    "\n",
    "    \n",
    "    def date_outcomes(self):\n",
    "        self.tot_wins = 0\n",
    "        self.tot_losses = 0\n",
    "        self.tot_draws = 0\n",
    "        games_played = c.execute(\"SELECT Date, FTR, HomeTeam, AwayTeam  FROM Matches WHERE Season=2011 AND ( HomeTeam=:name OR AwayTeam=:name )\", {\"name\": self.name}).fetchall()\n",
    "        self.date_outc = []\n",
    "        for element in games_played:\n",
    "            win_loss_draw = ''\n",
    "            #if home team\n",
    "            if element[2] == self.name:\n",
    "                #if win\n",
    "                if element[1] == 'H':\n",
    "                    win_loss_draw = 'W'\n",
    "                elif element[1] == 'A':\n",
    "                    win_loss_draw = 'L'\n",
    "                else:\n",
    "                    win_loss_draw = 'D'\n",
    "            #else if away team\n",
    "            else:\n",
    "                #if loss\n",
    "                if element[1] == 'A':\n",
    "                    win_loss_draw = 'W'\n",
    "                elif element[1] == 'H':\n",
    "                    win_loss_draw = 'L'\n",
    "                else:\n",
    "                    win_loss_draw = 'D'\n",
    "            self.date_outc.append([element[0],win_loss_draw])\n",
    "        for date in self.date_outc:\n",
    "            if date[1] == 'W':\n",
    "                self.tot_wins += 1\n",
    "            elif date[1] == 'L':\n",
    "                self.tot_losses += 1\n",
    "            else:\n",
    "                self.tot_draws += 1\n",
    "        return self.date_outc\n",
    "    \n",
    "    \n",
    "    def winloss_histogram(self):\n",
    "        plt.clf()\n",
    "        wins = self.tot_wins\n",
    "        losses = self.tot_losses\n",
    "        draws = self.tot_draws\n",
    "        plt.bar(['wins','losses','draws'], [wins, losses, draws])\n",
    "        plt.title(self.name)   \n",
    "        plt.savefig('plots/{}.png'.format(self.name))\n",
    "        \n",
    "    \n",
    "    def win_rate_raining(self, weather_dates):\n",
    "        win_count_raining = 0\n",
    "        raining_days_count = 0\n",
    "        for date in self.date_outc:\n",
    "            date.append(weather_dates[date[0]])\n",
    "            if date[2] != 'None':\n",
    "                raining_days_count += 1\n",
    "                if date[1] == 'W':\n",
    "                    win_count_raining += 1\n",
    "        self.rain_win_rate = win_count_raining / raining_days_count\n",
    "        return self.rain_win_rate\n",
    "    \n",
    "    def to_dict(self):\n",
    "        team_dict = {}\n",
    "        team_dict['name'] = self.name\n",
    "        team_dict['2011 total goals'] = self.tot_goals\n",
    "        team_dict['2011 total losses'] = self.tot_losses\n",
    "        team_dict['2011 total draws'] = self.tot_draws\n",
    "        team_dict['2011 total wins'] = self.tot_wins\n",
    "        team_dict['rainy day win rate'] = self.rain_win_rate\n",
    "        with open('plots/{}.png'.format(self.name), 'rb') as f:\n",
    "             image = f.read()\n",
    "        team_dict['2011 histogram'] = image\n",
    "        return team_dict"
   ]
  },
  {
   "cell_type": "code",
   "execution_count": 57,
   "metadata": {},
   "outputs": [
    {
     "data": {
      "image/png": "[encoded data removed]",
      "text/plain": [
       "<Figure size 432x288 with 1 Axes>"
      ]
     },
     "metadata": {
      "needs_background": "light"
     },
     "output_type": "display_data"
    }
   ],
   "source": [
    "BM_team = Team('Bayern Munich')\n",
    "BM_team.winloss_histogram()"
   ]
  },
  {
   "cell_type": "markdown",
   "metadata": {},
   "source": [
    "## WEATHER "
   ]
  },
  {
   "cell_type": "code",
   "execution_count": 5,
   "metadata": {},
   "outputs": [],
   "source": [
    "# Dark Sky:\n",
    "\n",
    "# KEY efc977ecdc97dfccb2554a30b9fcd3b6\n",
    "# EXAMPLE URL:   https://api.darksky.net/forecast/[key]/[latitude],[longitude],[time]\n",
    "\n",
    "# time: [YYYY]-[MM]-[DD]T[HH]:[MM]:[SS]\n",
    "# key = 'dadd754b659ad0dbeadda5eb44a7d5fa'\n",
    "# base_url = 'https://api.darksky.net/forecast/'\n",
    "# latitude = '52.512086'\n",
    "# longitude = '13.405709'\n",
    "# date = '2011-03-01T12:00:00'\n",
    "\n",
    "# full_url = base_url + key + '/' + latitude + ',' + longitude + ',' + date"
   ]
  },
  {
   "cell_type": "code",
   "execution_count": 58,
   "metadata": {},
   "outputs": [],
   "source": [
    "# You don't have to use these classes, but we recommend them as a good place to start!\n",
    "class WeatherGetter():\n",
    "    \n",
    "    def __init__(self, lat='', long=''):\n",
    "        self.key = 'dadd754b659ad0dbeadda5eb44a7d5fa'\n",
    "        self.base_url = 'https://api.darksky.net/forecast/'\n",
    "        self.latitude = lat\n",
    "        self.longitude = long\n",
    "        \n",
    "        \n",
    "    def get_precipType(self, date):\n",
    "        full_url = self.base_url + self.key + '/' + self.latitude + ',' + self.longitude + ',' + date + 'T12:00:00?exclude=hourly'\n",
    "        resp = requests.get(full_url)\n",
    "        try:\n",
    "            precipType = resp.json()['daily']['data'][0]['precipType']\n",
    "        except:\n",
    "            precipType = 'None'\n",
    "        return (date, precipType)"
   ]
  },
  {
   "cell_type": "code",
   "execution_count": 59,
   "metadata": {},
   "outputs": [],
   "source": [
    "def dates_location_weather(lat, long, season):\n",
    "    \"\"\"\n",
    "    This wonderfully named function takes a location in lat, long and also the year of the soccer season.\n",
    "    It queries the dates that matches were played and returns a list of tuples containing the date and type of\n",
    "    precipitation on that day.\n",
    "    \"\"\"\n",
    "    #Query dates that matches were played\n",
    "    season_dates = c.execute(\"SELECT Distinct Date FROM Matches WHERE Season=:year ORDER BY Date\", {'year':season}).fetchall()\n",
    "    #Create weather getter object for the specified location\n",
    "    location_weather_getter = WeatherGetter(lat,long)\n",
    "    #create a list that will contain our dates and precip type\n",
    "    date_weather = {}\n",
    "    for date in season_dates:\n",
    "        result = location_weather_getter.get_precipType(date[0])\n",
    "        date_weather[result[0]] = result[1]\n",
    "    #return populated dictionary\n",
    "    return date_weather"
   ]
  },
  {
   "cell_type": "code",
   "execution_count": 8,
   "metadata": {},
   "outputs": [
    {
     "ename": "TypeError",
     "evalue": "unhashable type: 'slice'",
     "output_type": "error",
     "traceback": [
      "\u001b[1;31m---------------------------------------------------------------------------\u001b[0m",
      "\u001b[1;31mTypeError\u001b[0m                                 Traceback (most recent call last)",
      "\u001b[1;32m<ipython-input-8-8e35b8fee536>\u001b[0m in \u001b[0;36m<module>\u001b[1;34m()\u001b[0m\n\u001b[0;32m      1\u001b[0m \u001b[0mberlin_weather_2011\u001b[0m \u001b[1;33m=\u001b[0m \u001b[0mdates_location_weather\u001b[0m\u001b[1;33m(\u001b[0m\u001b[1;34m'52.512086'\u001b[0m\u001b[1;33m,\u001b[0m \u001b[1;34m'13.405709'\u001b[0m\u001b[1;33m,\u001b[0m \u001b[1;36m2011\u001b[0m\u001b[1;33m)\u001b[0m\u001b[1;33m\u001b[0m\u001b[0m\n\u001b[1;32m----> 2\u001b[1;33m \u001b[0mberlin_weather_2011\u001b[0m\u001b[1;33m[\u001b[0m\u001b[1;33m:\u001b[0m\u001b[1;36m10\u001b[0m\u001b[1;33m]\u001b[0m\u001b[1;33m\u001b[0m\u001b[0m\n\u001b[0m",
      "\u001b[1;31mTypeError\u001b[0m: unhashable type: 'slice'"
     ]
    }
   ],
   "source": [
    "berlin_weather_2011 = dates_location_weather('52.512086', '13.405709', 2011)"
   ]
  },
  {
   "cell_type": "code",
   "execution_count": 60,
   "metadata": {
    "scrolled": true
   },
   "outputs": [
    {
     "data": {
      "text/plain": [
       "{'2011-07-15': 'None',\n",
       " '2011-07-16': 'None',\n",
       " '2011-07-17': 'rain',\n",
       " '2011-07-18': 'rain',\n",
       " '2011-07-22': 'rain',\n",
       " '2011-07-23': 'rain',\n",
       " '2011-07-24': 'None',\n",
       " '2011-07-25': 'None',\n",
       " '2011-08-05': 'rain',\n",
       " '2011-08-06': 'rain',\n",
       " '2011-08-07': 'rain',\n",
       " '2011-08-08': 'rain',\n",
       " '2011-08-12': 'rain',\n",
       " '2011-08-13': 'None',\n",
       " '2011-08-14': 'rain',\n",
       " '2011-08-15': 'rain',\n",
       " '2011-08-19': 'rain',\n",
       " '2011-08-20': 'None',\n",
       " '2011-08-21': 'None',\n",
       " '2011-08-22': 'None',\n",
       " '2011-08-26': 'rain',\n",
       " '2011-08-27': 'rain',\n",
       " '2011-08-28': 'None',\n",
       " '2011-08-29': 'rain',\n",
       " '2011-09-09': 'rain',\n",
       " '2011-09-10': 'rain',\n",
       " '2011-09-11': 'rain',\n",
       " '2011-09-12': 'rain',\n",
       " '2011-09-16': 'None',\n",
       " '2011-09-17': 'None',\n",
       " '2011-09-18': 'rain',\n",
       " '2011-09-19': 'rain',\n",
       " '2011-09-23': 'None',\n",
       " '2011-09-24': 'None',\n",
       " '2011-09-25': 'None',\n",
       " '2011-09-26': 'None',\n",
       " '2011-09-30': 'None',\n",
       " '2011-10-01': 'None',\n",
       " '2011-10-02': 'None',\n",
       " '2011-10-03': 'None',\n",
       " '2011-10-14': 'None',\n",
       " '2011-10-15': 'None',\n",
       " '2011-10-16': 'rain',\n",
       " '2011-10-17': 'None',\n",
       " '2011-10-21': 'None',\n",
       " '2011-10-22': 'None',\n",
       " '2011-10-23': 'rain',\n",
       " '2011-10-28': 'None',\n",
       " '2011-10-29': 'None',\n",
       " '2011-10-30': 'rain',\n",
       " '2011-10-31': 'None',\n",
       " '2011-11-04': 'None',\n",
       " '2011-11-05': 'rain',\n",
       " '2011-11-06': 'rain',\n",
       " '2011-11-07': 'None',\n",
       " '2011-11-18': 'rain',\n",
       " '2011-11-19': 'None',\n",
       " '2011-11-20': 'None',\n",
       " '2011-11-21': 'None',\n",
       " '2011-11-25': 'rain',\n",
       " '2011-11-26': 'rain',\n",
       " '2011-11-27': 'None',\n",
       " '2011-11-28': 'None',\n",
       " '2011-12-02': 'rain',\n",
       " '2011-12-03': 'rain',\n",
       " '2011-12-04': 'None',\n",
       " '2011-12-05': 'None',\n",
       " '2011-12-09': 'rain',\n",
       " '2011-12-10': 'rain',\n",
       " '2011-12-11': 'None',\n",
       " '2011-12-12': 'rain',\n",
       " '2011-12-13': 'rain',\n",
       " '2011-12-16': 'rain',\n",
       " '2011-12-17': 'rain',\n",
       " '2011-12-18': 'rain',\n",
       " '2011-12-19': 'None',\n",
       " '2011-12-20': 'None',\n",
       " '2011-12-21': 'rain',\n",
       " '2011-12-22': 'rain',\n",
       " '2011-12-26': 'rain',\n",
       " '2011-12-27': 'None',\n",
       " '2011-12-30': 'rain',\n",
       " '2011-12-31': 'None',\n",
       " '2012-01-01': 'rain',\n",
       " '2012-01-02': 'rain',\n",
       " '2012-01-03': 'rain',\n",
       " '2012-01-04': 'rain',\n",
       " '2012-01-11': 'None',\n",
       " '2012-01-14': 'None',\n",
       " '2012-01-15': 'None',\n",
       " '2012-01-16': 'rain',\n",
       " '2012-01-20': 'rain',\n",
       " '2012-01-21': 'None',\n",
       " '2012-01-22': 'rain',\n",
       " '2012-01-27': 'None',\n",
       " '2012-01-28': 'None',\n",
       " '2012-01-29': 'None',\n",
       " '2012-01-31': 'None',\n",
       " '2012-02-01': 'None',\n",
       " '2012-02-03': 'None',\n",
       " '2012-02-04': 'None',\n",
       " '2012-02-05': 'None',\n",
       " '2012-02-06': 'None',\n",
       " '2012-02-10': 'None',\n",
       " '2012-02-11': 'None',\n",
       " '2012-02-12': 'None',\n",
       " '2012-02-13': 'None',\n",
       " '2012-02-17': 'rain',\n",
       " '2012-02-18': 'None',\n",
       " '2012-02-19': 'rain',\n",
       " '2012-02-20': 'None',\n",
       " '2012-02-24': 'rain',\n",
       " '2012-02-25': 'None',\n",
       " '2012-02-26': 'None',\n",
       " '2012-02-27': 'rain',\n",
       " '2012-03-02': 'None',\n",
       " '2012-03-03': 'None',\n",
       " '2012-03-04': 'None',\n",
       " '2012-03-05': 'None',\n",
       " '2012-03-09': 'None',\n",
       " '2012-03-10': 'None',\n",
       " '2012-03-11': 'None',\n",
       " '2012-03-12': 'rain',\n",
       " '2012-03-13': 'None',\n",
       " '2012-03-14': 'None',\n",
       " '2012-03-16': 'None',\n",
       " '2012-03-17': 'None',\n",
       " '2012-03-18': 'None',\n",
       " '2012-03-19': 'None',\n",
       " '2012-03-20': 'None',\n",
       " '2012-03-21': 'None',\n",
       " '2012-03-23': 'None',\n",
       " '2012-03-24': 'None',\n",
       " '2012-03-25': 'None',\n",
       " '2012-03-26': 'None',\n",
       " '2012-03-30': 'None',\n",
       " '2012-03-31': 'rain',\n",
       " '2012-04-01': 'None',\n",
       " '2012-04-02': 'rain',\n",
       " '2012-04-05': 'None',\n",
       " '2012-04-06': 'None',\n",
       " '2012-04-07': 'None',\n",
       " '2012-04-08': 'None',\n",
       " '2012-04-09': 'None',\n",
       " '2012-04-10': 'None',\n",
       " '2012-04-11': 'None',\n",
       " '2012-04-13': 'None',\n",
       " '2012-04-14': 'None',\n",
       " '2012-04-15': 'None',\n",
       " '2012-04-16': 'None',\n",
       " '2012-04-20': 'None',\n",
       " '2012-04-21': 'None',\n",
       " '2012-04-22': 'None',\n",
       " '2012-04-23': 'None',\n",
       " '2012-04-24': 'rain',\n",
       " '2012-04-28': 'None',\n",
       " '2012-04-29': 'None',\n",
       " '2012-04-30': 'None',\n",
       " '2012-05-01': 'None',\n",
       " '2012-05-02': 'None',\n",
       " '2012-05-05': 'rain',\n",
       " '2012-05-06': 'rain',\n",
       " '2012-05-07': 'None',\n",
       " '2012-05-08': 'None',\n",
       " '2012-05-13': 'None'}"
      ]
     },
     "execution_count": 60,
     "metadata": {},
     "output_type": "execute_result"
    }
   ],
   "source": [
    "berlin_weather_2011"
   ]
  },
  {
   "cell_type": "markdown",
   "metadata": {},
   "source": [
    "## Iterating making team instances"
   ]
  },
  {
   "cell_type": "code",
   "execution_count": 61,
   "metadata": {},
   "outputs": [],
   "source": [
    "def team_stats_maker(year, weather_for_place_in_season):\n",
    "    #Get list of team names\n",
    "    team_names = c.execute(\"SELECT Distinct HomeTeam FROM Matches WHERE Season=:year\", {\"year\": year}).fetchall()\n",
    "    team_names = [name[0] for name in team_names]\n",
    "    \n",
    "    #Create Team objects\n",
    "    teams = []\n",
    "    for name in team_names:\n",
    "        #create Team object and run functions\n",
    "        team = Team(name)\n",
    "        team.win_rate_raining(weather_for_place_in_season)\n",
    "        team.winloss_histogram()\n",
    "        teams.append(team)\n",
    "    return teams"
   ]
  },
  {
   "cell_type": "code",
   "execution_count": 62,
   "metadata": {},
   "outputs": [
    {
     "data": {
      "image/png": "[encoded data removed]",
      "text/plain": [
       "<Figure size 432x288 with 1 Axes>"
      ]
     },
     "metadata": {
      "needs_background": "light"
     },
     "output_type": "display_data"
    }
   ],
   "source": [
    "teams_2011 = team_stats_maker(2011, berlin_weather_2011)"
   ]
  },
  {
   "cell_type": "code",
   "execution_count": 63,
   "metadata": {},
   "outputs": [
    {
     "data": {
      "text/plain": [
       "20"
      ]
     },
     "execution_count": 63,
     "metadata": {},
     "output_type": "execute_result"
    }
   ],
   "source": [
    "teams_2011[-1].tot_wins"
   ]
  },
  {
   "cell_type": "markdown",
   "metadata": {},
   "source": [
    "# MongoDB"
   ]
  },
  {
   "cell_type": "markdown",
   "metadata": {},
   "source": [
    "**Make sure your MongoDB server is running before executing the cells below!**"
   ]
  },
  {
   "cell_type": "code",
   "execution_count": 64,
   "metadata": {},
   "outputs": [],
   "source": [
    "mongo_client = \"mongodb://127.0.0.1:27017/\"\n",
    "myclient = pymongo.MongoClient(mongo_client)\n",
    "mydb = myclient['Teams_DB']\n",
    "mycollection = mydb['2011_Teams']"
   ]
  },
  {
   "cell_type": "code",
   "execution_count": 65,
   "metadata": {},
   "outputs": [],
   "source": [
    "def push_to_mongo(teams, mongo_client):\n",
    "    #Connect to Mongo Client\n",
    "    myclient = pymongo.MongoClient(mongo_client)\n",
    "    mydb = myclient['Teams_DB']\n",
    "    mycollection = mydb['2011_Teams']\n",
    "    for team in teams:\n",
    "        mycollection.insert_one(team.to_dict())\n",
    "    pass"
   ]
  },
  {
   "cell_type": "code",
   "execution_count": 66,
   "metadata": {},
   "outputs": [],
   "source": [
    "push_to_mongo(teams_2011, \"mongodb://127.0.0.1:27017/\")"
   ]
  },
  {
   "cell_type": "markdown",
   "metadata": {},
   "source": [
    "### LEVEL-UP\n",
    "Make a function that returns the stats and histogram for the team of your choosing."
   ]
  },
  {
   "cell_type": "code",
   "execution_count": 102,
   "metadata": {},
   "outputs": [],
   "source": [
    "def get_team_stats(team_name):\n",
    "    team_stats = list(mycollection.find({'name': team_name},{'_id': 0, '2011 histogram': 0}))[0]\n",
    "    team_hist = list(mycollection.find({'name': team_name}))[0]['2011 histogram']\n",
    "    team_stats['rainy day win rate'] = round(team_stats['rainy day win rate'], 3)\n",
    "    statkeys = list(team_stats.keys())\n",
    "    statvals = list(team_stats.values())\n",
    "    for i in range(len(statkeys)):\n",
    "        print(str(f'{str(statvals[i]):>32}\\r{str(statkeys[i])}:'))\n",
    "    display(Image.open(BytesIO(team_hist)))\n",
    "    return team_stats"
   ]
  },
  {
   "cell_type": "code",
   "execution_count": 103,
   "metadata": {},
   "outputs": [
    {
     "name": "stdout",
     "output_type": "stream",
     "text": [
      "                   Bayern Munich\r",
      "name:\n",
      "                              77\r",
      "2011 total goals:\n",
      "                               7\r",
      "2011 total losses:\n",
      "                               4\r",
      "2011 total draws:\n",
      "                              23\r",
      "2011 total wins:\n",
      "                           0.727\r",
      "rainy day win rate:\n"
     ]
    },
    {
     "data": {
      "image/png": "[encoded data removed]",
      "text/plain": [
       "<PIL.PngImagePlugin.PngImageFile image mode=RGBA size=432x288 at 0x1F53E169B70>"
      ]
     },
     "metadata": {},
     "output_type": "display_data"
    }
   ],
   "source": [
    "BM = get_team_stats('Bayern Munich')"
   ]
  },
  {
   "cell_type": "markdown",
   "metadata": {},
   "source": [
    "# Summary\n",
    "\n",
    "In this lab, we dug deep and used everything we've learned so far about python programming, databases, HTTP requests and API calls to ETL data from a SQL database into a MongoDB instance!"
   ]
  }
 ],
 "metadata": {
  "kernelspec": {
   "display_name": "Python [conda env:learn-env] *",
   "language": "python",
   "name": "conda-env-learn-env-py"
  },
  "language_info": {
   "codemirror_mode": {
    "name": "ipython",
    "version": 3
   },
   "file_extension": ".py",
   "mimetype": "text/x-python",
   "name": "python",
   "nbconvert_exporter": "python",
   "pygments_lexer": "ipython3",
   "version": "3.6.6"
  }
 },
 "nbformat": 4,
 "nbformat_minor": 2
}
